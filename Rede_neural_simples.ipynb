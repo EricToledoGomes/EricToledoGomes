{
  "nbformat": 4,
  "nbformat_minor": 0,
  "metadata": {
    "colab": {
      "provenance": [],
      "authorship_tag": "ABX9TyNO69jI3Us5t9ordCu+Knvo",
      "include_colab_link": true
    },
    "kernelspec": {
      "name": "python3",
      "display_name": "Python 3"
    },
    "language_info": {
      "name": "python"
    }
  },
  "cells": [
    {
      "cell_type": "markdown",
      "metadata": {
        "id": "view-in-github",
        "colab_type": "text"
      },
      "source": [
        "<a href=\"https://colab.research.google.com/github/EricToledoGomes/EricToledoGomes/blob/main/Rede_neural_simples.ipynb\" target=\"_parent\"><img src=\"https://colab.research.google.com/assets/colab-badge.svg\" alt=\"Open In Colab\"/></a>"
      ]
    },
    {
      "cell_type": "code",
      "execution_count": null,
      "metadata": {
        "colab": {
          "base_uri": "https://localhost:8080/"
        },
        "id": "0awyz9t6FPH2",
        "outputId": "5bb72b6d-bfcb-41af-f473-8667d9dd1c3f"
      },
      "outputs": [
        {
          "output_type": "stream",
          "name": "stdout",
          "text": [
            "1/1 [==============================] - 0s 41ms/step\n",
            "A pessoa com altura 1.8 m deve pesar cerca de 73.44155 kg\n"
          ]
        }
      ],
      "source": [
        "import numpy as np\n",
        "from keras.models import Sequential\n",
        "from keras.layers import Dense\n",
        "\n",
        "# Definir o conjunto de dados\n",
        "X = np.array([[1.5], [1.6], [1.7], [1.8], [1.9]])\n",
        "Y = np.array([[60], [65], [70], [75], [80]])\n",
        "\n",
        "# Definir o modelo de rede neural\n",
        "model = Sequential()\n",
        "model.add(Dense(1, input_dim=1))\n",
        "\n",
        "# Compilar o modelo\n",
        "model.compile(loss='mean_squared_error', optimizer='sgd')\n",
        "\n",
        "# Treinar o modelo\n",
        "model.fit(X, Y, epochs=1000, verbose=0)\n",
        "\n",
        "# Fazer uma previsão\n",
        "x_test = np.array([[1.80]])\n",
        "y_pred = model.predict(x_test)\n",
        "\n",
        "# Exibir o resultado\n",
        "print(\"A pessoa com altura\", x_test[0][0], \"m deve pesar cerca de\", y_pred[0][0], \"kg\")\n"
      ]
    }
  ]
}